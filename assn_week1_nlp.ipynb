{
 "cells": [
  {
   "cell_type": "code",
   "execution_count": null,
   "id": "fb81e72f",
   "metadata": {},
   "outputs": [
    {
     "name": "stdout",
     "output_type": "stream",
     "text": [
      "[[ 6 45  7 35]\n",
      " [32 13 35  4]\n",
      " [43 21 25 21]\n",
      " [23 26 40 10]\n",
      " [39  7 37 10]]\n"
     ]
    }
   ],
   "source": [
    "# problem 1\n",
    "import numpy as np\n",
    "arr = np.random.randint(1,50,(5,4)) \n"
   ]
  },
  {
   "cell_type": "code",
   "execution_count": null,
   "id": "b83faec6",
   "metadata": {},
   "outputs": [
    {
     "name": "stdout",
     "output_type": "stream",
     "text": [
      "[[ 6 45  7 35]\n",
      " [32 13 35  4]\n",
      " [43 21 25 21]\n",
      " [23 26 40 10]\n",
      " [39  7 37 10]]\n",
      "diagonal element 0 35\n",
      "diagonal element 1 35\n",
      "diagonal element 2 21\n",
      "diagonal element 3 23\n",
      "[35 35 21 23]\n"
     ]
    }
   ],
   "source": [
    "#(1)\n",
    "print(arr)\n",
    "diagonal_elements = np.diag(np.fliplr(arr))# directly by flipping the array \n",
    "# code wise\n",
    "# for i in range(len(arr)):\n",
    "#   for j in range(len(arr[i])):\n",
    "#     if(i+j==3):\n",
    "#       print('diagonal element',i,arr[i][j])\n",
    "\n",
    "print(diagonal_elements)"
   ]
  },
  {
   "cell_type": "code",
   "execution_count": 10,
   "id": "ad211697",
   "metadata": {},
   "outputs": [
    {
     "name": "stdout",
     "output_type": "stream",
     "text": [
      "[45 35 43 40 39]\n"
     ]
    }
   ],
   "source": [
    "#(2)\n",
    "arr_max = np.max(arr, axis = 1)\n",
    "print(arr_max)"
   ]
  },
  {
   "cell_type": "code",
   "execution_count": null,
   "id": "787a2ab8",
   "metadata": {},
   "outputs": [
    {
     "name": "stdout",
     "output_type": "stream",
     "text": [
      "23.95\n",
      "[[6, 7], [13, 4], [21, 21], [23, 10], [7, 10]]\n",
      "[ 6  7 13  4 21 21 23 10  7 10]\n"
     ]
    }
   ],
   "source": [
    "#(3)\n",
    "arr_mean  = np.mean(arr)\n",
    "new_arr = []\n",
    "for i in range(len(arr)):\n",
    "  int_arr = []\n",
    "  for j in range(len(arr[i])):\n",
    "    if(arr[i][j] <= arr_mean):\n",
    "      int_arr.append(arr[i][j])\n",
    "  new_arr.append(int_arr)\n",
    "print(arr_mean)\n",
    "print(new_arr)# this is what i thought like i didnt know if its now less than mean then what should we do so i thought this is the best we can do\n",
    "# mean_value = np.mean(arr)\n",
    "# result = arr[arr <= mean_value]\n",
    "# print(result) this is the other method which gives a list of all the number in the "
   ]
  },
  {
   "cell_type": "code",
   "execution_count": null,
   "id": "834036a4",
   "metadata": {},
   "outputs": [
    {
     "name": "stdout",
     "output_type": "stream",
     "text": [
      "0 h\n",
      "0\n",
      "0\n",
      "0\n",
      "1 h\n",
      "1 j\n",
      "1 j\n",
      "2 h\n",
      "2 j\n",
      "2 j\n",
      "3 h\n",
      "3\n",
      "3\n",
      "3\n",
      "[1, 2, 3, 3, 5, 4, 6, 8, 9, 0]\n",
      "[1, 2, 3, 5, 6, 0, 9, 8, 4, 3]\n"
     ]
    }
   ],
   "source": [
    "import numpy as np\n",
    "\n",
    "def numpy_boundary_traversal(matrix):\n",
    "    if matrix.ndim != 2:\n",
    "        raise ValueError(\"Input must be a 2D NumPy array.\")\n",
    "\n",
    "    rows, cols = matrix.shape\n",
    "    boundary = []\n",
    "\n",
    "    # Top row\n",
    "    for j in range(cols):\n",
    "        boundary.append(matrix[0, j])\n",
    "\n",
    "    # Right column (excluding top and bottom corners)\n",
    "    for i in range(1, rows - 1):\n",
    "        boundary.append(matrix[i, cols - 1])\n",
    "\n",
    "    # Bottom row (if more than 1 row)\n",
    "    if rows > 1:\n",
    "        for j in range(cols - 1, -1, -1):\n",
    "            boundary.append(matrix[rows - 1, j])\n",
    "\n",
    "    # Left column (excluding top and bottom corners)\n",
    "    if cols > 1:\n",
    "        for i in range(rows - 2, 0, -1):\n",
    "            boundary.append(matrix[i, 0])\n",
    "\n",
    "    return boundary\n",
    "# def boundary__traversal(matrix):\n",
    "#     boundary = []\n",
    "#     for i in range(len(matrix)):\n",
    "#       print(i,'h')\n",
    "#       for j in range(len(matrix[i])):\n",
    "#           if(i==0 or i == len(matrix)-1):\n",
    "#             print(i)\n",
    "#             boundary.append(matrix[i][j])\n",
    "#           elif((j == 0 or (j == len(matrix[i])-1)) and (i != 0 or (i != len(matrix)-1))):\n",
    "#               print(i,'j')\n",
    "#               boundary.append(matrix[i][j])\n",
    "#     return boundary\n",
    "# matri = np.array([[1,2,3],[3,4,5],[4,5,6],[8,9,0]])\n",
    "# bnd = boundary__traversal(matri)\n",
    "# tnd = numpy_boundary_traversal(matri)\n",
    "# print(bnd)\n",
    "# print(tnd)\n",
    "# these are two ways in which we can make one is row wise an other is normal "
   ]
  },
  {
   "cell_type": "code",
   "execution_count": null,
   "id": "df88116b",
   "metadata": {},
   "outputs": [
    {
     "name": "stdout",
     "output_type": "stream",
     "text": [
      "Original Array:\n",
      "[3.1929848  3.34039049 5.95327877 4.33800893 7.69794769 9.1339712\n",
      " 6.43748533 8.00421521 2.55552358 3.49216551 9.06745526 0.56806774\n",
      " 0.16383741 5.90886207 4.47242337 8.91890032 4.49470836 1.48353552\n",
      " 5.67919757 7.56988039]\n"
     ]
    }
   ],
   "source": [
    "# problem 2\n",
    "\n",
    "\n",
    "arr = np.random.uniform(0, 10, 20)\n",
    "\n",
    "\n"
   ]
  },
  {
   "cell_type": "code",
   "execution_count": 50,
   "id": "c8af9ccf",
   "metadata": {},
   "outputs": [
    {
     "name": "stdout",
     "output_type": "stream",
     "text": [
      "[3.1929848  3.34039049 5.95327877 4.33800893 7.69794769 9.1339712\n",
      " 6.43748533 8.00421521 2.55552358 3.49216551 9.06745526 0.56806774\n",
      " 0.16383741 5.90886207 4.47242337 8.91890032 4.49470836 1.48353552\n",
      " 5.67919757 7.56988039]\n",
      "[3.19 3.34 5.95 4.34 7.7  9.13 6.44 8.   2.56 3.49 9.07 0.57 0.16 5.91\n",
      " 4.47 8.92 4.49 1.48 5.68 7.57]\n"
     ]
    }
   ],
   "source": [
    "#(1)\n",
    "print(arr)\n",
    "arr_round = np.round(arr,2)\n",
    "print(arr_round)"
   ]
  },
  {
   "cell_type": "code",
   "execution_count": 51,
   "id": "d8346e2c",
   "metadata": {},
   "outputs": [
    {
     "name": "stdout",
     "output_type": "stream",
     "text": [
      "0.16\n",
      "9.13\n",
      "5.085\n"
     ]
    }
   ],
   "source": [
    "#(2)\n",
    "arr_min = np.min(arr_round)\n",
    "arr_max = np.max(arr_round)\n",
    "arr_median = np.median(arr_round)\n",
    "print(arr_min)\n",
    "print(arr_max)\n",
    "print(arr_median)\n"
   ]
  },
  {
   "cell_type": "code",
   "execution_count": 52,
   "id": "d848b3ca",
   "metadata": {},
   "outputs": [
    {
     "name": "stdout",
     "output_type": "stream",
     "text": [
      "[10.18 11.16  5.95 18.84  7.7   9.13  6.44  8.    6.55 12.18  9.07  0.32\n",
      "  0.03  5.91 19.98  8.92 20.16  2.19  5.68  7.57]\n"
     ]
    }
   ],
   "source": [
    "#(3)\n",
    "arr_round[arr_round<5] = arr_round[arr_round<5]**2\n",
    "arr_round = np.round(arr_round,2)\n",
    "print(arr_round)"
   ]
  },
  {
   "cell_type": "code",
   "execution_count": 53,
   "id": "740933a9",
   "metadata": {},
   "outputs": [
    {
     "name": "stdout",
     "output_type": "stream",
     "text": [
      "[ 0.03 20.16  0.32 19.98  2.19 18.84  5.68 12.18  5.91 11.16  5.95 10.18\n",
      "  6.44  9.13  6.55  9.07  7.57  8.92  7.7   8.  ]\n"
     ]
    }
   ],
   "source": [
    "#(4)\n",
    "def numpy_alternate_sort(array):\n",
    "    sorted_array = np.sort(array)\n",
    "    \n",
    "    \n",
    "    result = []\n",
    "    start, end = 0, len(sorted_array) - 1\n",
    "    \n",
    "    # Alternate between smallest and largest\n",
    "    while start <= end:\n",
    "        result.append(sorted_array[start])\n",
    "        start += 1\n",
    "        if start <= end:\n",
    "            result.append(sorted_array[end])\n",
    "            end -= 1\n",
    "\n",
    "    return np.array(result)\n",
    "alt_sort = numpy_alternate_sort(arr_round)\n",
    "print(alt_sort)"
   ]
  },
  {
   "cell_type": "code",
   "execution_count": 60,
   "id": "cf89cbc2",
   "metadata": {},
   "outputs": [],
   "source": [
    "#problem 3\n",
    "import pandas as pd\n",
    "import numpy as np\n",
    "\n",
    "# Sample data\n",
    "names = ['Alice', 'Bob', 'Charlie', 'David', 'Eva', 'Frank', 'Grace', 'Helen', 'Ivan', 'Jane']\n",
    "subjects = ['Math', 'English', 'Science', 'Math', 'English', 'Science', 'Math', 'English', 'Science', 'Math']\n",
    "\n",
    "# Create DataFrame\n",
    "df = pd.DataFrame({\n",
    "    'Name': names,\n",
    "    'Subject': subjects,\n",
    "    'Score': np.random.randint(50, 101, size=10),\n",
    "    'Grade': ''  # initially empty\n",
    "})\n"
   ]
  },
  {
   "cell_type": "code",
   "execution_count": 75,
   "id": "04ea0e83",
   "metadata": {},
   "outputs": [
    {
     "data": {
      "text/html": [
       "<div>\n",
       "<style scoped>\n",
       "    .dataframe tbody tr th:only-of-type {\n",
       "        vertical-align: middle;\n",
       "    }\n",
       "\n",
       "    .dataframe tbody tr th {\n",
       "        vertical-align: top;\n",
       "    }\n",
       "\n",
       "    .dataframe thead th {\n",
       "        text-align: right;\n",
       "    }\n",
       "</style>\n",
       "<table border=\"1\" class=\"dataframe\">\n",
       "  <thead>\n",
       "    <tr style=\"text-align: right;\">\n",
       "      <th></th>\n",
       "      <th>Name</th>\n",
       "      <th>Subject</th>\n",
       "      <th>Score</th>\n",
       "      <th>Grade</th>\n",
       "    </tr>\n",
       "  </thead>\n",
       "  <tbody>\n",
       "    <tr>\n",
       "      <th>0</th>\n",
       "      <td>Alice</td>\n",
       "      <td>Math</td>\n",
       "      <td>69</td>\n",
       "      <td>D</td>\n",
       "    </tr>\n",
       "    <tr>\n",
       "      <th>1</th>\n",
       "      <td>Bob</td>\n",
       "      <td>English</td>\n",
       "      <td>98</td>\n",
       "      <td>A</td>\n",
       "    </tr>\n",
       "    <tr>\n",
       "      <th>2</th>\n",
       "      <td>Charlie</td>\n",
       "      <td>Science</td>\n",
       "      <td>100</td>\n",
       "      <td>A</td>\n",
       "    </tr>\n",
       "    <tr>\n",
       "      <th>3</th>\n",
       "      <td>David</td>\n",
       "      <td>Math</td>\n",
       "      <td>92</td>\n",
       "      <td>A</td>\n",
       "    </tr>\n",
       "    <tr>\n",
       "      <th>4</th>\n",
       "      <td>Eva</td>\n",
       "      <td>English</td>\n",
       "      <td>90</td>\n",
       "      <td>A</td>\n",
       "    </tr>\n",
       "  </tbody>\n",
       "</table>\n",
       "</div>"
      ],
      "text/plain": [
       "      Name  Subject  Score Grade\n",
       "0    Alice     Math     69     D\n",
       "1      Bob  English     98     A\n",
       "2  Charlie  Science    100     A\n",
       "3    David     Math     92     A\n",
       "4      Eva  English     90     A"
      ]
     },
     "execution_count": 75,
     "metadata": {},
     "output_type": "execute_result"
    }
   ],
   "source": [
    "#(1)\n",
    "# Assign grades\n",
    "def assign_grade(score):\n",
    "    if score >= 90:\n",
    "        return 'A'\n",
    "    elif score >= 80:\n",
    "        return 'B'\n",
    "    elif score >= 70:\n",
    "        return 'C'\n",
    "    elif score >= 60:\n",
    "        return 'D'\n",
    "    else:\n",
    "        return 'F'\n",
    "\n",
    "df['Grade'] = df['Score'].apply(assign_grade)\n",
    "# or\n",
    "\n",
    "# grades = []\n",
    "# for score in df['Score']:\n",
    "#     grades.append(assign_grade(score))\n",
    "# df['Grade'] = grades\n",
    "df.head()"
   ]
  },
  {
   "cell_type": "code",
   "execution_count": 76,
   "id": "521474db",
   "metadata": {},
   "outputs": [
    {
     "name": "stdout",
     "output_type": "stream",
     "text": [
      "Sorted by Score (descending):\n",
      "      Name  Subject  Score Grade\n",
      "2  Charlie  Science    100     A\n",
      "1      Bob  English     98     A\n",
      "7    Helen  English     97     A\n",
      "3    David     Math     92     A\n",
      "4      Eva  English     90     A\n",
      "5    Frank  Science     88     B\n",
      "9     Jane     Math     82     B\n",
      "6    Grace     Math     73     C\n",
      "0    Alice     Math     69     D\n",
      "8     Ivan  Science     55     F\n"
     ]
    }
   ],
   "source": [
    "#(2)\n",
    "#  Print DataFrame sorted by Score in descending order\n",
    "print(\"Sorted by Score (descending):\")\n",
    "print(df.sort_values(by='Score', ascending=False))"
   ]
  },
  {
   "cell_type": "code",
   "execution_count": 63,
   "id": "55e8b572",
   "metadata": {},
   "outputs": [
    {
     "name": "stdout",
     "output_type": "stream",
     "text": [
      "\n",
      "Average score by subject:\n",
      "Subject\n",
      "English    95.0\n",
      "Math       79.0\n",
      "Science    81.0\n",
      "Name: Score, dtype: float64\n"
     ]
    }
   ],
   "source": [
    "#(3)\n",
    "# Calculate and print average score for each subject\n",
    "print(\"\\nAverage score by subject:\")\n",
    "print(df.groupby('Subject')['Score'].mean())"
   ]
  },
  {
   "cell_type": "code",
   "execution_count": 64,
   "id": "9a0efe9c",
   "metadata": {},
   "outputs": [
    {
     "name": "stdout",
     "output_type": "stream",
     "text": [
      "\n",
      "Students with Grade A or B:\n",
      "      Name  Subject  Score Grade\n",
      "1      Bob  English     98     A\n",
      "2  Charlie  Science    100     A\n",
      "3    David     Math     92     A\n",
      "4      Eva  English     90     A\n",
      "5    Frank  Science     88     B\n",
      "7    Helen  English     97     A\n",
      "9     Jane     Math     82     B\n"
     ]
    }
   ],
   "source": [
    "#(4)\n",
    "#  Function to filter grades A or B\n",
    "def pandas_filter_pass(dataframe):\n",
    "    return dataframe[dataframe['Grade'].isin(['A', 'B'])]\n",
    "\n",
    "# Filter and display\n",
    "print(\"\\nStudents with Grade A or B:\")\n",
    "print(pandas_filter_pass(df))"
   ]
  },
  {
   "cell_type": "code",
   "execution_count": null,
   "id": "f7e34b2d",
   "metadata": {},
   "outputs": [
    {
     "data": {
      "text/html": [
       "<div>\n",
       "<style scoped>\n",
       "    .dataframe tbody tr th:only-of-type {\n",
       "        vertical-align: middle;\n",
       "    }\n",
       "\n",
       "    .dataframe tbody tr th {\n",
       "        vertical-align: top;\n",
       "    }\n",
       "\n",
       "    .dataframe thead th {\n",
       "        text-align: right;\n",
       "    }\n",
       "</style>\n",
       "<table border=\"1\" class=\"dataframe\">\n",
       "  <thead>\n",
       "    <tr style=\"text-align: right;\">\n",
       "      <th></th>\n",
       "      <th>Review</th>\n",
       "      <th>Sentiment</th>\n",
       "    </tr>\n",
       "  </thead>\n",
       "  <tbody>\n",
       "    <tr>\n",
       "      <th>0</th>\n",
       "      <td>I loved the movie!</td>\n",
       "      <td>positive</td>\n",
       "    </tr>\n",
       "    <tr>\n",
       "      <th>1</th>\n",
       "      <td>Amazing story and acting.</td>\n",
       "      <td>positive</td>\n",
       "    </tr>\n",
       "    <tr>\n",
       "      <th>2</th>\n",
       "      <td>Great direction.</td>\n",
       "      <td>positive</td>\n",
       "    </tr>\n",
       "    <tr>\n",
       "      <th>3</th>\n",
       "      <td>Absolutely fantastic!</td>\n",
       "      <td>positive</td>\n",
       "    </tr>\n",
       "    <tr>\n",
       "      <th>4</th>\n",
       "      <td>It was a beautiful film.</td>\n",
       "      <td>positive</td>\n",
       "    </tr>\n",
       "  </tbody>\n",
       "</table>\n",
       "</div>"
      ],
      "text/plain": [
       "                      Review Sentiment\n",
       "0         I loved the movie!  positive\n",
       "1  Amazing story and acting.  positive\n",
       "2           Great direction.  positive\n",
       "3      Absolutely fantastic!  positive\n",
       "4   It was a beautiful film.  positive"
      ]
     },
     "execution_count": 77,
     "metadata": {},
     "output_type": "execute_result"
    }
   ],
   "source": [
    "#problem 4\n",
    "import pandas as pd\n",
    "import numpy as np\n",
    "from sklearn.feature_extraction.text import CountVectorizer\n",
    "from sklearn.model_selection import train_test_split\n",
    "from sklearn.naive_bayes import MultinomialNB\n",
    "from sklearn.metrics import accuracy_score\n",
    "\n",
    "#. Create synthetic dataset\n",
    "positive_reviews = [\"I loved the movie!\", \"Amazing story and acting.\", \"Great direction.\", \"Absolutely fantastic!\", \n",
    "                    \"It was a beautiful film.\", \"Highly recommended!\", \"Enjoyed every minute.\", \"Brilliant work!\", \n",
    "                    \"Such a heartfelt story.\", \"Well made and touching.\"] * 5\n",
    "\n",
    "negative_reviews = [\"I hated the movie.\", \"Terrible acting and story.\", \"Worst film ever.\", \"Completely boring.\", \n",
    "                    \"Not worth the time.\", \"I regret watching it.\", \"Bad direction.\", \"Poorly executed.\", \n",
    "                    \"Waste of time.\", \"Unwatchable and dull.\"] * 5\n",
    "\n",
    "# Combine into DataFrame\n",
    "reviews = pd.DataFrame({\n",
    "    \"Review\": positive_reviews + negative_reviews,\n",
    "    \"Sentiment\": [\"positive\"] * 50 + [\"negative\"] * 50\n",
    "})\n",
    "reviews.head()\n"
   ]
  },
  {
   "cell_type": "code",
   "execution_count": 78,
   "id": "68e1d605",
   "metadata": {},
   "outputs": [],
   "source": [
    "# 1. Tokenize with CountVectorizer\n",
    "vectorizer = CountVectorizer(stop_words='english', max_features=500)\n",
    "X = vectorizer.fit_transform(reviews['Review'])\n",
    "y = reviews['Sentiment']\n",
    "\n"
   ]
  },
  {
   "cell_type": "code",
   "execution_count": 79,
   "id": "55c9d5c5",
   "metadata": {},
   "outputs": [],
   "source": [
    "# 2. Split dataset\n",
    "X_train, X_test, y_train, y_test = train_test_split(X, y, test_size=0.2, random_state=42)\n",
    "\n"
   ]
  },
  {
   "cell_type": "code",
   "execution_count": 90,
   "id": "4a67479f",
   "metadata": {},
   "outputs": [
    {
     "name": "stdout",
     "output_type": "stream",
     "text": [
      "Test Set Accuracy: 0.72\n",
      "              precision    recall  f1-score   support\n",
      "\n",
      "         bad       0.53      1.00      0.70         8\n",
      "        good       1.00      0.59      0.74        17\n",
      "\n",
      "    accuracy                           0.72        25\n",
      "   macro avg       0.77      0.79      0.72        25\n",
      "weighted avg       0.85      0.72      0.73        25\n",
      "\n"
     ]
    }
   ],
   "source": [
    "# 3. Train Naive Bayes classifier\n",
    "from sklearn.metrics import classification_report\n",
    "model = MultinomialNB()\n",
    "model.fit(X_train, y_train)\n",
    "\n",
    "# Accuracy\n",
    "y_pred = model.predict(X_test)\n",
    "print(\"Test Set Accuracy:\", accuracy_score(y_test, y_pred))\n",
    "\n",
    "print(classification_report(y_test, y_pred))\n"
   ]
  },
  {
   "cell_type": "code",
   "execution_count": 84,
   "id": "ce37bc4b",
   "metadata": {},
   "outputs": [
    {
     "name": "stdout",
     "output_type": "stream",
     "text": [
      "Predicted sentiment: positive\n"
     ]
    }
   ],
   "source": [
    "# 4 Prediction function\n",
    "def predict_review_sentiment(model, vectorizer, review):\n",
    "    review_vec = vectorizer.transform([review])\n",
    "    return model.predict(review_vec)[0]\n",
    "\n",
    "# Example prediction\n",
    "print(\"Predicted sentiment:\", predict_review_sentiment(model, vectorizer, \"That movie was not teribble\"))"
   ]
  },
  {
   "cell_type": "code",
   "execution_count": 85,
   "id": "6578801a",
   "metadata": {},
   "outputs": [],
   "source": [
    "\n",
    "# problem 5\n",
    "import random\n",
    "\n",
    "# Generate synthetic data\n",
    "texts = []\n",
    "labels = []\n",
    "\n",
    "positive_samples = [\"This product is amazing!\", \"I loved it!\", \"Great value for money.\",\n",
    "                    \"Fantastic quality.\", \"Highly recommend.\", \"Very satisfied.\", \n",
    "                    \"Exceeded my expectations.\", \"Superb build.\", \"Delighted!\", \"Impressive!\"]\n",
    "\n",
    "negative_samples = [\"Terrible product.\", \"Very disappointed.\", \"Would not recommend.\",\n",
    "                    \"It broke after a day.\", \"Poor quality.\", \"Not worth the money.\",\n",
    "                    \"Completely useless.\", \"Unsatisfactory.\", \"Bad experience.\", \"Low quality.\"]\n",
    "\n",
    "# Create 100 samples: 50 good, 50 bad\n",
    "for _ in range(50):\n",
    "    texts.append(random.choice(positive_samples))\n",
    "    labels.append('good')\n",
    "\n",
    "for _ in range(50):\n",
    "    texts.append(random.choice(negative_samples))\n",
    "    labels.append('bad')\n",
    "\n",
    "# Shuffle the dataset\n",
    "data = pd.DataFrame({'Text': texts, 'Label': labels}).sample(frac=1, random_state=42).reset_index(drop=True)\n"
   ]
  },
  {
   "cell_type": "code",
   "execution_count": null,
   "id": "38741558",
   "metadata": {},
   "outputs": [],
   "source": [
    "#(1)\n",
    "from sklearn.feature_extraction.text import TfidfVectorizer\n",
    "\n",
    "vectorizer = TfidfVectorizer(max_features=300, stop_words='english', lowercase=True)\n",
    "X = vectorizer.fit_transform(data['Text'])\n",
    "y = data['Label']\n"
   ]
  },
  {
   "cell_type": "code",
   "execution_count": null,
   "id": "cd96d8ac",
   "metadata": {},
   "outputs": [],
   "source": [
    "#(2)\n",
    "from sklearn.model_selection import train_test_split\n",
    "\n",
    "X_train, X_test, y_train, y_test = train_test_split(X, y, test_size=0.25, random_state=42)\n"
   ]
  },
  {
   "cell_type": "code",
   "execution_count": 88,
   "id": "47ee2d73",
   "metadata": {},
   "outputs": [
    {
     "name": "stdout",
     "output_type": "stream",
     "text": [
      "              precision    recall  f1-score   support\n",
      "\n",
      "         bad       0.53      1.00      0.70         8\n",
      "        good       1.00      0.59      0.74        17\n",
      "\n",
      "    accuracy                           0.72        25\n",
      "   macro avg       0.77      0.79      0.72        25\n",
      "weighted avg       0.85      0.72      0.73        25\n",
      "\n"
     ]
    }
   ],
   "source": [
    "#(3)\n",
    "from sklearn.linear_model import LogisticRegression\n",
    "from sklearn.metrics import classification_report\n",
    "\n",
    "model = LogisticRegression()\n",
    "model.fit(X_train, y_train)\n",
    "y_pred = model.predict(X_test)\n",
    "\n",
    "# Print precision, recall, and F1-score\n",
    "print(classification_report(y_test, y_pred))\n"
   ]
  },
  {
   "cell_type": "code",
   "execution_count": 89,
   "id": "1dba0c6a",
   "metadata": {},
   "outputs": [],
   "source": [
    "#(4)\n",
    "def text_preprocess_vectorize(texts, vectorizer):\n",
    "    return vectorizer.transform(texts)\n"
   ]
  },
  {
   "cell_type": "code",
   "execution_count": null,
   "id": "677f61b7",
   "metadata": {},
   "outputs": [],
   "source": []
  }
 ],
 "metadata": {
  "kernelspec": {
   "display_name": "Python 3",
   "language": "python",
   "name": "python3"
  },
  "language_info": {
   "codemirror_mode": {
    "name": "ipython",
    "version": 3
   },
   "file_extension": ".py",
   "mimetype": "text/x-python",
   "name": "python",
   "nbconvert_exporter": "python",
   "pygments_lexer": "ipython3",
   "version": "3.12.0"
  }
 },
 "nbformat": 4,
 "nbformat_minor": 5
}
